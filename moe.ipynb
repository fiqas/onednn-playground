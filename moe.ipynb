{
 "cells": [
  {
   "cell_type": "code",
   "execution_count": 1,
   "id": "7004a127-a4dc-4522-95d8-0ec465915725",
   "metadata": {
    "tags": []
   },
   "outputs": [],
   "source": [
    "import numpy as np\n",
    "from numpy.random import randn\n",
    "from itertools import count\n",
    "\n",
    "np.random.seed(1)"
   ]
  },
  {
   "cell_type": "code",
   "execution_count": 2,
   "id": "d79a0e9f-1103-4d91-b14e-b8d54a717790",
   "metadata": {
    "tags": []
   },
   "outputs": [],
   "source": [
    "expert_size = 3 # number of experts\n",
    "emb_size = 5 # embedding size\n",
    "word_size = 7 # think token count, from unrolled batches possibly\n",
    "\n",
    "# token count * embedding size\n",
    "words = randn(word_size, emb_size)"
   ]
  },
  {
   "cell_type": "code",
   "execution_count": 10,
   "id": "1ae5abfb-78af-4097-a3cd-891ee42a7133",
   "metadata": {
    "tags": []
   },
   "outputs": [],
   "source": [
    "# expert (3) * emb_size (5) * emb_size (5)\n",
    "experts_w = randn(expert_size, emb_size, emb_size)\n",
    "\n",
    "# expert (3) * emb_prime_size (4) * emb_size (5)\n",
    "experts_b = randn(expert_size, 1, emb_size)"
   ]
  },
  {
   "cell_type": "code",
   "execution_count": 15,
   "id": "dada2a0a-918b-4964-81b0-41414e7e4947",
   "metadata": {
    "tags": []
   },
   "outputs": [],
   "source": [
    "# experts (3) * tokens\n",
    "router = np.array([\n",
    "    [1, 1, 0, 0, 0, 0, 0], # first two tokens go to expert 1\n",
    "    [0, 0, 1, 1, 0, 0, 0], # second two tokens go to expert 2\n",
    "    [0, 0, 0, 0, 1, 1, 0]  # the very last token doesn't go to any expert(!)\n",
    "], dtype=np.uint8)"
   ]
  },
  {
   "cell_type": "code",
   "execution_count": 16,
   "id": "70429174-2e92-44b1-8bf0-e4aed9a6a890",
   "metadata": {
    "tags": []
   },
   "outputs": [
    {
     "name": "stdout",
     "output_type": "stream",
     "text": [
      "Expert 0:\n",
      "  (2, 5) * (5, 5) + (1, 5) = (2, 5)\n",
      "\n",
      "Expert 1:\n",
      "  (2, 5) * (5, 5) + (1, 5) = (2, 5)\n",
      "\n",
      "Expert 2:\n",
      "  (2, 5) * (5, 5) + (1, 5) = (2, 5)\n",
      "\n",
      "Total output: (7, 5)\n"
     ]
    }
   ],
   "source": [
    "b = 0.1\n",
    "\n",
    "# words(7) * emb_size(4)\n",
    "total_output = b * words # … so that if a word doesn't go through any expert it will still have some value\n",
    "\n",
    "# Repeat for every expert, looking at routed do determine which words go to said expert\n",
    "for n, expert_w, expert_b, mask in zip(count(), experts_w, experts_b, router):\n",
    "    print(f\"Expert {n}:\")\n",
    "    \n",
    "    # select all words where the mask for this expert is > 0\n",
    "    expert_input = words[mask.nonzero()]\n",
    "    \n",
    "    # classic matmul op for feed-forward I guess?\n",
    "    expert_output = np.add(np.matmul(expert_input, expert_w), expert_b)\n",
    "\n",
    "    # I did assignment here, but could also be addition\n",
    "    total_output[mask.nonzero()] = expert_output\n",
    "\n",
    "    print(f\"  {expert_input.shape} * {expert_w.shape} + {expert_b.shape} = {expert_output.shape}\\n\")\n",
    "\n",
    "print(f\"Total output: {total_output.shape}\")"
   ]
  },
  {
   "cell_type": "code",
   "execution_count": 17,
   "id": "261b8f50-16b9-456d-be41-43a568d3b4eb",
   "metadata": {},
   "outputs": [],
   "source": [
    "np.savez(\"data.npz\", src=words, dst=total_output, experts_w=experts_w, experts_b=experts_b, router=router)"
   ]
  },
  {
   "cell_type": "code",
   "execution_count": null,
   "id": "0de69b02-b94c-4abb-bb73-ad499e63efc8",
   "metadata": {},
   "outputs": [],
   "source": []
  }
 ],
 "metadata": {
  "kernelspec": {
   "display_name": "Python 3 (ipykernel)",
   "language": "python",
   "name": "python3"
  },
  "language_info": {
   "codemirror_mode": {
    "name": "ipython",
    "version": 3
   },
   "file_extension": ".py",
   "mimetype": "text/x-python",
   "name": "python",
   "nbconvert_exporter": "python",
   "pygments_lexer": "ipython3",
   "version": "3.9.16"
  }
 },
 "nbformat": 4,
 "nbformat_minor": 5
}
